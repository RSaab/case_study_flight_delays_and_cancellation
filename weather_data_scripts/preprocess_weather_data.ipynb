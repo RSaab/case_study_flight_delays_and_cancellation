{
 "cells": [
  {
   "cell_type": "markdown",
   "metadata": {},
   "source": [
    "# Append and Clean Weather Data\n",
    "\n",
    "The weather data was too large to download in one file for all stations of interests so I downloaded them in chunks and then merged them."
   ]
  },
  {
   "cell_type": "code",
   "execution_count": 1,
   "metadata": {},
   "outputs": [],
   "source": [
    "import pandas as pd\n",
    "import math\n",
    "import time, sys\n",
    "from datetime import datetime"
   ]
  },
  {
   "cell_type": "markdown",
   "metadata": {},
   "source": [
    "## Global Variables"
   ]
  },
  {
   "cell_type": "code",
   "execution_count": 2,
   "metadata": {},
   "outputs": [],
   "source": [
    "# data_file1 = 'STA1_200801010000_200812310000.txt'\n",
    "# data_file2 = 'STA2_200801010000_200812310000.txt'\n",
    "\n",
    "data_file1 = 'SAMPLE_STA1.csv'\n",
    "data_file2 = 'SAMPLE_STA2.csv'"
   ]
  },
  {
   "cell_type": "markdown",
   "metadata": {},
   "source": [
    "## Function Definitions"
   ]
  },
  {
   "cell_type": "code",
   "execution_count": 3,
   "metadata": {},
   "outputs": [],
   "source": [
    "# create epoch time column in flights and weather data\n",
    "def get_epoch(str):\n",
    "    dt_obj = datetime.strptime(str,'%Y-%m-%d %H:%M')\n",
    "    millisec = dt_obj.timestamp()\n",
    "    millisec = millisec - (millisec % 3600)\n",
    "    return millisec*1000\n",
    "\n",
    "# add epoch time from departure time to each flight\n",
    "def format_as_epoch_time(year, month, dayofMonth, deptime):\n",
    "    time_str = str(int(deptime))\n",
    "    time_str = time_str[:-2] + ':' + time_str[-2:]\n",
    "    \n",
    "    my_str = \"{}-{}-{} {}\".format(year, month, dayofMonth, time_str)\n",
    "    try:\n",
    "        return get_epoch(my_str)\n",
    "    except:\n",
    "        return 0"
   ]
  },
  {
   "cell_type": "markdown",
   "metadata": {},
   "source": [
    "## Reading the Data"
   ]
  },
  {
   "cell_type": "code",
   "execution_count": 4,
   "metadata": {},
   "outputs": [
    {
     "data": {
      "text/plain": [
       "500"
      ]
     },
     "metadata": {},
     "output_type": "display_data"
    },
    {
     "data": {
      "text/html": [
       "<div>\n",
       "<style scoped>\n",
       "    .dataframe tbody tr th:only-of-type {\n",
       "        vertical-align: middle;\n",
       "    }\n",
       "\n",
       "    .dataframe tbody tr th {\n",
       "        vertical-align: top;\n",
       "    }\n",
       "\n",
       "    .dataframe thead th {\n",
       "        text-align: right;\n",
       "    }\n",
       "</style>\n",
       "<table border=\"1\" class=\"dataframe\">\n",
       "  <thead>\n",
       "    <tr style=\"text-align: right;\">\n",
       "      <th></th>\n",
       "      <th>Unnamed: 0</th>\n",
       "      <th>station</th>\n",
       "      <th>valid</th>\n",
       "      <th>lon</th>\n",
       "      <th>lat</th>\n",
       "      <th>tmpf</th>\n",
       "      <th>dwpf</th>\n",
       "      <th>relh</th>\n",
       "      <th>drct</th>\n",
       "      <th>sknt</th>\n",
       "      <th>...</th>\n",
       "      <th>skyl4</th>\n",
       "      <th>wxcodes</th>\n",
       "      <th>ice_accretion_1hr</th>\n",
       "      <th>ice_accretion_3hr</th>\n",
       "      <th>ice_accretion_6hr</th>\n",
       "      <th>peak_wind_gust</th>\n",
       "      <th>peak_wind_drct</th>\n",
       "      <th>peak_wind_time</th>\n",
       "      <th>feel</th>\n",
       "      <th>metar</th>\n",
       "    </tr>\n",
       "  </thead>\n",
       "  <tbody>\n",
       "    <tr>\n",
       "      <td>0</td>\n",
       "      <td>5614783</td>\n",
       "      <td>CBF</td>\n",
       "      <td>2008-12-22 15:04</td>\n",
       "      <td>-95.7604</td>\n",
       "      <td>41.2611</td>\n",
       "      <td>-5.00</td>\n",
       "      <td>-11.00</td>\n",
       "      <td>74.61</td>\n",
       "      <td>0.00</td>\n",
       "      <td>0.00</td>\n",
       "      <td>...</td>\n",
       "      <td>M</td>\n",
       "      <td>M</td>\n",
       "      <td>M</td>\n",
       "      <td>M</td>\n",
       "      <td>M</td>\n",
       "      <td>M</td>\n",
       "      <td>M</td>\n",
       "      <td>M</td>\n",
       "      <td>-5.00</td>\n",
       "      <td>M</td>\n",
       "    </tr>\n",
       "    <tr>\n",
       "      <td>1</td>\n",
       "      <td>5240486</td>\n",
       "      <td>ORC</td>\n",
       "      <td>2008-11-30 07:35</td>\n",
       "      <td>-96.0606</td>\n",
       "      <td>42.9895</td>\n",
       "      <td>30.20</td>\n",
       "      <td>26.60</td>\n",
       "      <td>86.28</td>\n",
       "      <td>340.00</td>\n",
       "      <td>9.00</td>\n",
       "      <td>...</td>\n",
       "      <td>M</td>\n",
       "      <td>-SN</td>\n",
       "      <td>M</td>\n",
       "      <td>M</td>\n",
       "      <td>M</td>\n",
       "      <td>M</td>\n",
       "      <td>M</td>\n",
       "      <td>M</td>\n",
       "      <td>21.28</td>\n",
       "      <td>METAR KORC 300735Z AUTO 34009KT 7SM -SN OVC032...</td>\n",
       "    </tr>\n",
       "  </tbody>\n",
       "</table>\n",
       "<p>2 rows × 32 columns</p>\n",
       "</div>"
      ],
      "text/plain": [
       "   Unnamed: 0 station             valid      lon      lat   tmpf    dwpf  \\\n",
       "0     5614783     CBF  2008-12-22 15:04 -95.7604  41.2611  -5.00  -11.00   \n",
       "1     5240486     ORC  2008-11-30 07:35 -96.0606  42.9895  30.20   26.60   \n",
       "\n",
       "    relh    drct  sknt  ... skyl4 wxcodes ice_accretion_1hr ice_accretion_3hr  \\\n",
       "0  74.61    0.00  0.00  ...     M       M                 M                 M   \n",
       "1  86.28  340.00  9.00  ...     M     -SN                 M                 M   \n",
       "\n",
       "  ice_accretion_6hr peak_wind_gust peak_wind_drct peak_wind_time   feel  \\\n",
       "0                 M              M              M              M  -5.00   \n",
       "1                 M              M              M              M  21.28   \n",
       "\n",
       "                                               metar  \n",
       "0                                                  M  \n",
       "1  METAR KORC 300735Z AUTO 34009KT 7SM -SN OVC032...  \n",
       "\n",
       "[2 rows x 32 columns]"
      ]
     },
     "metadata": {},
     "output_type": "display_data"
    },
    {
     "data": {
      "text/plain": [
       "500"
      ]
     },
     "metadata": {},
     "output_type": "display_data"
    },
    {
     "data": {
      "text/html": [
       "<div>\n",
       "<style scoped>\n",
       "    .dataframe tbody tr th:only-of-type {\n",
       "        vertical-align: middle;\n",
       "    }\n",
       "\n",
       "    .dataframe tbody tr th {\n",
       "        vertical-align: top;\n",
       "    }\n",
       "\n",
       "    .dataframe thead th {\n",
       "        text-align: right;\n",
       "    }\n",
       "</style>\n",
       "<table border=\"1\" class=\"dataframe\">\n",
       "  <thead>\n",
       "    <tr style=\"text-align: right;\">\n",
       "      <th></th>\n",
       "      <th>Unnamed: 0</th>\n",
       "      <th>station</th>\n",
       "      <th>valid</th>\n",
       "      <th>lon</th>\n",
       "      <th>lat</th>\n",
       "      <th>tmpf</th>\n",
       "      <th>dwpf</th>\n",
       "      <th>relh</th>\n",
       "      <th>drct</th>\n",
       "      <th>sknt</th>\n",
       "      <th>...</th>\n",
       "      <th>skyl4</th>\n",
       "      <th>wxcodes</th>\n",
       "      <th>ice_accretion_1hr</th>\n",
       "      <th>ice_accretion_3hr</th>\n",
       "      <th>ice_accretion_6hr</th>\n",
       "      <th>peak_wind_gust</th>\n",
       "      <th>peak_wind_drct</th>\n",
       "      <th>peak_wind_time</th>\n",
       "      <th>feel</th>\n",
       "      <th>metar</th>\n",
       "    </tr>\n",
       "  </thead>\n",
       "  <tbody>\n",
       "    <tr>\n",
       "      <td>0</td>\n",
       "      <td>6381394</td>\n",
       "      <td>MUT</td>\n",
       "      <td>2008-11-12 09:55</td>\n",
       "      <td>-91.1406</td>\n",
       "      <td>41.3670</td>\n",
       "      <td>44.60</td>\n",
       "      <td>44.60</td>\n",
       "      <td>100.00</td>\n",
       "      <td>150.00</td>\n",
       "      <td>6.00</td>\n",
       "      <td>...</td>\n",
       "      <td>M</td>\n",
       "      <td>M</td>\n",
       "      <td>M</td>\n",
       "      <td>M</td>\n",
       "      <td>M</td>\n",
       "      <td>M</td>\n",
       "      <td>M</td>\n",
       "      <td>M</td>\n",
       "      <td>40.71</td>\n",
       "      <td>M</td>\n",
       "    </tr>\n",
       "    <tr>\n",
       "      <td>1</td>\n",
       "      <td>2996452</td>\n",
       "      <td>CIN</td>\n",
       "      <td>2008-05-29 21:12</td>\n",
       "      <td>-94.7889</td>\n",
       "      <td>42.0444</td>\n",
       "      <td>62.00</td>\n",
       "      <td>60.00</td>\n",
       "      <td>93.15</td>\n",
       "      <td>130.00</td>\n",
       "      <td>14.00</td>\n",
       "      <td>...</td>\n",
       "      <td>M</td>\n",
       "      <td>M</td>\n",
       "      <td>M</td>\n",
       "      <td>M</td>\n",
       "      <td>M</td>\n",
       "      <td>M</td>\n",
       "      <td>M</td>\n",
       "      <td>M</td>\n",
       "      <td>62.00</td>\n",
       "      <td>M</td>\n",
       "    </tr>\n",
       "  </tbody>\n",
       "</table>\n",
       "<p>2 rows × 32 columns</p>\n",
       "</div>"
      ],
      "text/plain": [
       "   Unnamed: 0 station             valid      lon      lat   tmpf   dwpf  \\\n",
       "0     6381394     MUT  2008-11-12 09:55 -91.1406  41.3670  44.60  44.60   \n",
       "1     2996452     CIN  2008-05-29 21:12 -94.7889  42.0444  62.00  60.00   \n",
       "\n",
       "     relh    drct   sknt  ... skyl4 wxcodes ice_accretion_1hr  \\\n",
       "0  100.00  150.00   6.00  ...     M       M                 M   \n",
       "1   93.15  130.00  14.00  ...     M       M                 M   \n",
       "\n",
       "  ice_accretion_3hr ice_accretion_6hr peak_wind_gust peak_wind_drct  \\\n",
       "0                 M                 M              M              M   \n",
       "1                 M                 M              M              M   \n",
       "\n",
       "  peak_wind_time   feel metar  \n",
       "0              M  40.71     M  \n",
       "1              M  62.00     M  \n",
       "\n",
       "[2 rows x 32 columns]"
      ]
     },
     "metadata": {},
     "output_type": "display_data"
    }
   ],
   "source": [
    "weather_data = [pd.read_csv(data_file1), pd.read_csv(data_file2)] \n",
    "for data in weather_data:\n",
    "    display(len(data['station']))\n",
    "    display(data.head(2))"
   ]
  },
  {
   "cell_type": "markdown",
   "metadata": {},
   "source": [
    "## Data processing"
   ]
  },
  {
   "cell_type": "code",
   "execution_count": 5,
   "metadata": {},
   "outputs": [
    {
     "name": "stdout",
     "output_type": "stream",
     "text": [
      "creating epoch time column...\n",
      "removing duplicate weather entries...\n",
      "creating merge_id column...\n",
      "data 0 is done\n",
      "creating epoch time column...\n",
      "removing duplicate weather entries...\n",
      "creating merge_id column...\n",
      "data 1 is done\n"
     ]
    }
   ],
   "source": [
    "for i, data in enumerate(weather_data):\n",
    "\n",
    "    print('creating epoch time column...')\n",
    "    data['epoch_time'] = [((get_epoch(time)/1000)+(4*3600))*1000 for time in data['valid']]  \n",
    "\n",
    "    print('removing duplicate weather entries...')\n",
    "    c_maxes = data.groupby(['station', 'epoch_time']).valid.transform(min)\n",
    "    data = data.loc[data['valid'] == c_maxes]\n",
    "\n",
    "    # print(\"merging weather_data lat,lon...\")\n",
    "    # data['point'] = [(x, y) for x,y in zip(data['lat'], data['lon'])]\n",
    "    # print(\"elapsed_time: \", time.time() - start_time)\n",
    "\n",
    "    print('creating merge_id column...')\n",
    "    data['merge_id'] = [\"{}_{}\".format(epoch, iata) for epoch, iata in zip(data['epoch_time'], data['station'])]\n",
    "\n",
    "    weather_data[i] = data\n",
    "    print(\"data {} is done\".format(i))"
   ]
  },
  {
   "cell_type": "markdown",
   "metadata": {},
   "source": [
    "## Merge Weather Dataframes"
   ]
  },
  {
   "cell_type": "code",
   "execution_count": 6,
   "metadata": {},
   "outputs": [],
   "source": [
    "bigdata = weather_data[0].append(weather_data[1], ignore_index=True)\n",
    "bigdata.to_csv(path_or_buf=\"./MERGED_STA_SAMPLE.csv\", sep=',')"
   ]
  },
  {
   "cell_type": "code",
   "execution_count": 8,
   "metadata": {},
   "outputs": [
    {
     "data": {
      "text/plain": [
       "1000"
      ]
     },
     "metadata": {},
     "output_type": "display_data"
    },
    {
     "data": {
      "text/html": [
       "<div>\n",
       "<style scoped>\n",
       "    .dataframe tbody tr th:only-of-type {\n",
       "        vertical-align: middle;\n",
       "    }\n",
       "\n",
       "    .dataframe tbody tr th {\n",
       "        vertical-align: top;\n",
       "    }\n",
       "\n",
       "    .dataframe thead th {\n",
       "        text-align: right;\n",
       "    }\n",
       "</style>\n",
       "<table border=\"1\" class=\"dataframe\">\n",
       "  <thead>\n",
       "    <tr style=\"text-align: right;\">\n",
       "      <th></th>\n",
       "      <th>Unnamed: 0</th>\n",
       "      <th>station</th>\n",
       "      <th>valid</th>\n",
       "      <th>lon</th>\n",
       "      <th>lat</th>\n",
       "      <th>tmpf</th>\n",
       "      <th>dwpf</th>\n",
       "      <th>relh</th>\n",
       "      <th>drct</th>\n",
       "      <th>sknt</th>\n",
       "      <th>...</th>\n",
       "      <th>ice_accretion_1hr</th>\n",
       "      <th>ice_accretion_3hr</th>\n",
       "      <th>ice_accretion_6hr</th>\n",
       "      <th>peak_wind_gust</th>\n",
       "      <th>peak_wind_drct</th>\n",
       "      <th>peak_wind_time</th>\n",
       "      <th>feel</th>\n",
       "      <th>metar</th>\n",
       "      <th>epoch_time</th>\n",
       "      <th>merge_id</th>\n",
       "    </tr>\n",
       "  </thead>\n",
       "  <tbody>\n",
       "    <tr>\n",
       "      <td>0</td>\n",
       "      <td>5614783</td>\n",
       "      <td>CBF</td>\n",
       "      <td>2008-12-22 15:04</td>\n",
       "      <td>-95.7604</td>\n",
       "      <td>41.2611</td>\n",
       "      <td>-5.00</td>\n",
       "      <td>-11.00</td>\n",
       "      <td>74.61</td>\n",
       "      <td>0.00</td>\n",
       "      <td>0.00</td>\n",
       "      <td>...</td>\n",
       "      <td>M</td>\n",
       "      <td>M</td>\n",
       "      <td>M</td>\n",
       "      <td>M</td>\n",
       "      <td>M</td>\n",
       "      <td>M</td>\n",
       "      <td>-5.00</td>\n",
       "      <td>M</td>\n",
       "      <td>1.229972e+12</td>\n",
       "      <td>1229972400000.0_CBF</td>\n",
       "    </tr>\n",
       "    <tr>\n",
       "      <td>1</td>\n",
       "      <td>5240486</td>\n",
       "      <td>ORC</td>\n",
       "      <td>2008-11-30 07:35</td>\n",
       "      <td>-96.0606</td>\n",
       "      <td>42.9895</td>\n",
       "      <td>30.20</td>\n",
       "      <td>26.60</td>\n",
       "      <td>86.28</td>\n",
       "      <td>340.00</td>\n",
       "      <td>9.00</td>\n",
       "      <td>...</td>\n",
       "      <td>M</td>\n",
       "      <td>M</td>\n",
       "      <td>M</td>\n",
       "      <td>M</td>\n",
       "      <td>M</td>\n",
       "      <td>M</td>\n",
       "      <td>21.28</td>\n",
       "      <td>METAR KORC 300735Z AUTO 34009KT 7SM -SN OVC032...</td>\n",
       "      <td>1.228043e+12</td>\n",
       "      <td>1228042800000.0_ORC</td>\n",
       "    </tr>\n",
       "  </tbody>\n",
       "</table>\n",
       "<p>2 rows × 34 columns</p>\n",
       "</div>"
      ],
      "text/plain": [
       "   Unnamed: 0 station             valid      lon      lat   tmpf    dwpf  \\\n",
       "0     5614783     CBF  2008-12-22 15:04 -95.7604  41.2611  -5.00  -11.00   \n",
       "1     5240486     ORC  2008-11-30 07:35 -96.0606  42.9895  30.20   26.60   \n",
       "\n",
       "    relh    drct  sknt  ... ice_accretion_1hr ice_accretion_3hr  \\\n",
       "0  74.61    0.00  0.00  ...                 M                 M   \n",
       "1  86.28  340.00  9.00  ...                 M                 M   \n",
       "\n",
       "  ice_accretion_6hr peak_wind_gust peak_wind_drct peak_wind_time   feel  \\\n",
       "0                 M              M              M              M  -5.00   \n",
       "1                 M              M              M              M  21.28   \n",
       "\n",
       "                                               metar    epoch_time  \\\n",
       "0                                                  M  1.229972e+12   \n",
       "1  METAR KORC 300735Z AUTO 34009KT 7SM -SN OVC032...  1.228043e+12   \n",
       "\n",
       "              merge_id  \n",
       "0  1229972400000.0_CBF  \n",
       "1  1228042800000.0_ORC  \n",
       "\n",
       "[2 rows x 34 columns]"
      ]
     },
     "metadata": {},
     "output_type": "display_data"
    }
   ],
   "source": [
    "display(len(bigdata['station']))\n",
    "display(bigdata.head(2))"
   ]
  },
  {
   "cell_type": "code",
   "execution_count": null,
   "metadata": {},
   "outputs": [],
   "source": []
  }
 ],
 "metadata": {
  "kernelspec": {
   "display_name": "Python 3",
   "language": "python",
   "name": "python3"
  },
  "language_info": {
   "codemirror_mode": {
    "name": "ipython",
    "version": 3
   },
   "file_extension": ".py",
   "mimetype": "text/x-python",
   "name": "python",
   "nbconvert_exporter": "python",
   "pygments_lexer": "ipython3",
   "version": "3.7.5"
  }
 },
 "nbformat": 4,
 "nbformat_minor": 2
}
