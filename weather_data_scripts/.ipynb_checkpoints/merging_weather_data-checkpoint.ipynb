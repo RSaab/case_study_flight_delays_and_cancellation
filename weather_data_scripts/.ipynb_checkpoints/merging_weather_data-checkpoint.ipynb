{
 "cells": [
  {
   "cell_type": "markdown",
   "metadata": {},
   "source": [
    "# Merge Flights with Corresponding Weather Information"
   ]
  },
  {
   "cell_type": "markdown",
   "metadata": {},
   "source": [
    "## Weather data\n",
    "Weather data was obtained from the Iowa Environmental Mesonet (IEM) website. A python script was used to download data by setting limits on the start and end date as well as specifying the stations we intended to use based on our selected airports of interest.\n",
    "\n",
    "The following stations were taken into consideration:\n",
    "\n",
    "* NY (New York)\n",
    "* NC (North Carolina)\n",
    "* TX (Texas)\n",
    "* WA (Washington)\n",
    "* CA (California)\n",
    "* IL (Illinios)\n",
    "* ID (Idaho)\n",
    "* IA (Iowa)\n",
    "\n",
    "### Weather Data Description\n",
    "\n",
    "* *station*:three or four character site identifier\n",
    "* *valid*:timestamp of the observation\n",
    "* *tmpf*:Air Temperature in Fahrenheit, typically @ 2 meters\n",
    "* *dwpf*:Dew Point Temperature in Fahrenheit, typically @ 2 meters\n",
    "* *relh*:Relative Humidity in %\n",
    "* *drct*:Wind Direction in degrees from north\n",
    "* *sknt*:Wind Speed in knots\n",
    "* *p01i*:One hour precipitation for the period from the observation time to the time of the previous hourly precipitation reset. This varies slightly by site. Values are in inches. This value may or may not contain frozen precipitation melted by some device on the sensor or estimated by some other means. Unfortunately, we do not know of an authoritative database denoting which station has which sensor.\n",
    "* *alti*:Pressure altimeter in inches\n",
    "* *mslp*:Sea Level Pressure in millibar\n",
    "* *vsby*:Visibility in miles\n",
    "* *gust*:Wind Gust in knots\n",
    "* *skyc1*:Sky Level 1 Coverage\n",
    "* *skyc2*:Sky Level 2 Coverage\n",
    "* *skyc3*:Sky Level 3 Coverage\n",
    "* *skyc4*:Sky Level 4 Coverage\n",
    "* *skyl1*:Sky Level 1 Altitude in feet\n",
    "* *skyl2*:Sky Level 2 Altitude in feet\n",
    "* *skyl3*:Sky Level 3 Altitude in feet\n",
    "* *skyl4*:Sky Level 4 Altitude in feet\n",
    "* *wxcodes*:Present Weather Codes (space seperated)\n",
    "* *feel*:Apparent Temperature (Wind Chill or Heat Index) in Fahrenheit\n",
    "* *ice_accretion_1hr*:Ice Accretion over 1 Hour (inches)\n",
    "* *ice_accretion_3hr*:Ice Accretion over 3 Hours (inches)\n",
    "* *ice_accretion_6hr*:Ice Accretion over 6 Hours (inches)\n",
    "* *peak_wind_gust*:Peak Wind Gust (from PK WND METAR remark) (knots)\n",
    "* *peak_wind_drct*:Peak Wind Gust Direction (from PK WND METAR remark) (deg)\n",
    "* *peak_wind_time*:Peak Wind Gust Time (from PK WND METAR remark)\n",
    "* *metar*:unprocessed reported observation in METAR format\n",
    "\n",
    "## Airport Geolocation\n",
    "Airport geolocation data was obtained from the following website: https://openflights.org.\n",
    "\n",
    "### Airport Data Description\n",
    "\n",
    "\n",
    " * *Airport ID:* Unique OpenFlights identifier for this airport.\n",
    " * *Name:* Name of airport. May or may not contain the City name.\n",
    " * *City:* Main city served by airport. May be spelled differently from Name.\n",
    " * *Country:* Country or territory where airport is located. See countries.dat to cross-reference to ISO 3166-1 codes.\n",
    " * *IATA:* 3-letter IATA code. Null if not assigned/unknown.\n",
    " * *ICAO:* 4-letter ICAO code.\n",
    " * *Null:* if not assigned.\n",
    " * *Latitude:* Decimal degrees, usually to six significant digits. Negative is South, positive is North.\n",
    " * *Longitude:* Decimal degrees, usually to six significant digits. Negative is West, positive is East.\n",
    " * *Altitude:* In feet.\n",
    " * *Timezone:* Hours offset from UTC. Fractional hours are expressed as decimals, eg. India is 5.5.\n",
    " * *DST:* Daylight savings time. One of E (Europe), A (US/Canada), S (South America), O (Australia), Z (New Zealand), N (None) or U (Unknown). See also: Help: Time\n",
    " * *Tz:* database time zone\tTimezone in \"tz\" (Olson) format, eg. \"America/Los_Angeles\".\n",
    " * *Type:* Type of the airport. Value \"airport\" for air terminals, \"station\" for train stations, \"port\" for ferry terminals and \"unknown\" if not known. In airports.csv, only type=airport is included.\n",
    " * *Source:*\tSource of this data. \"OurAirports\" for data sourced from OurAirports, \"Legacy\" for old data not matched to OurAirports (mostly DAFIF), \"User\" for unverified user contributions. In airports.csv, only source=OurAirports is included.\n",
    "\n",
    "\n",
    "## Merging Weather and Flight Data\n",
    "\n",
    "### Preprocessing Weather Data\n",
    "\n",
    "Weather data was given by station name and geolocation however it was not linked to any nearby airport. Also, the data was given at 20 minute intervals. Therefore it was neccessary to preprocess the data. The following steps were completed:\n",
    "\n",
    "1. The time was converted to epoch time in milliseconds rounded to the base hour. \n",
    "2. After rounding the time to the base hour, each station had multiple similar entries, so only the first one was kept and the rest were dropped.\n",
    "3. Creating a merg ID that was a combination of the epoch time and the station name (epochTime_stationID).\n",
    "\n",
    "### Preprocessing Flights Data\n",
    "\n",
    "1. Flights with missing timestamps (year, month, day and time) were dropped\n",
    "2. Airports not of interest were dropped limmiting the data to the following airports:\n",
    "    * DFW\n",
    "    * ORD\n",
    "    * DEN\n",
    "    * LAX\n",
    "    * LGA\n",
    "    * RDU\n",
    "    * DCA\n",
    "    * BOS\n",
    "    * SAN\n",
    "    * SJC\n",
    "3. The time was converted to epoch time in milliseconds rounded to the base hour.\n",
    "4. Finding the nearest weather station to each airport\n",
    "5. Creating a merg ID that was a combination of the epoch time and the station name (epochTime_stationID).\n",
    "\n",
    "### Merging Weather and Flight Data\n",
    "\n",
    "Data was merged using pandas library function \"merge\" based on merge ID using a left join strategy. \n",
    "\n"
   ]
  },
  {
   "cell_type": "code",
   "execution_count": 1,
   "metadata": {},
   "outputs": [],
   "source": [
    "import pandas as pd\n",
    "import numpy as np\n",
    "import math\n",
    "import geopy.distance\n",
    "import matplotlib.pyplot as plt\n",
    "\n",
    "import time, sys\n",
    "from IPython.display import clear_output\n",
    "from scipy.spatial.distance import cdist\n",
    "from datetime import datetime"
   ]
  },
  {
   "cell_type": "markdown",
   "metadata": {},
   "source": [
    "## Global Variables"
   ]
  },
  {
   "cell_type": "code",
   "execution_count": 27,
   "metadata": {},
   "outputs": [
    {
     "name": "stdout",
     "output_type": "stream",
     "text": [
      "reading flights csv...\n"
     ]
    },
    {
     "name": "stderr",
     "output_type": "stream",
     "text": [
      "/home/rms/anaconda3/lib/python3.7/site-packages/IPython/core/interactiveshell.py:3057: DtypeWarning: Columns (23) have mixed types. Specify dtype option on import or set low_memory=False.\n",
      "  interactivity=interactivity, compiler=compiler, result=result)\n"
     ]
    },
    {
     "data": {
      "text/plain": [
       "(1580558, 31)"
      ]
     },
     "metadata": {},
     "output_type": "display_data"
    },
    {
     "name": "stdout",
     "output_type": "stream",
     "text": [
      "reading airports csv...\n",
      "reading weather csv...\n",
      "Done\n"
     ]
    }
   ],
   "source": [
    "print(\"reading flights csv...\")\n",
    "flights = pd.read_csv('flights_2008_processed.csv')\n",
    "display(flights.shape)\n",
    "print(\"reading airports csv...\")\n",
    "airport_locations = pd.read_csv('airport_locations.csv')\n",
    "\n",
    "print(\"reading weather csv...\")\n",
    "weather_data = pd.read_csv('MERGED_STA_SAMPLE.csv')\n",
    "\n",
    "print('Done')"
   ]
  },
  {
   "cell_type": "markdown",
   "metadata": {},
   "source": [
    "## Function Definitions"
   ]
  },
  {
   "cell_type": "code",
   "execution_count": 18,
   "metadata": {},
   "outputs": [],
   "source": [
    "# find the nearest airport to each station and add it to weather_data['IATA']\n",
    "def closest_point(point, points, airport_iata):\n",
    "    \"\"\" Find closest point from a list of points. \"\"\"\n",
    "    x = cdist([point], points).argmin()\n",
    "    return airport_iata[x]"
   ]
  },
  {
   "cell_type": "markdown",
   "metadata": {},
   "source": [
    "## Data processing"
   ]
  },
  {
   "cell_type": "code",
   "execution_count": 19,
   "metadata": {},
   "outputs": [
    {
     "name": "stdout",
     "output_type": "stream",
     "text": [
      "selecting data of interest only...\n",
      "Done\n"
     ]
    }
   ],
   "source": [
    "print('selecting data of interest only...')\n",
    "airports_interest = [\"DFW\",\"ORD\",\"DEN\",\"LAX\",\"LGA\",\"RDU\",\"DCA\",\"BOS\",\"SAN\",\"SJC\"]\n",
    "airport_locations = airport_locations[airport_locations['IATA'].isin(airports_interest)]\n",
    "print('Done')"
   ]
  },
  {
   "cell_type": "code",
   "execution_count": 20,
   "metadata": {},
   "outputs": [
    {
     "name": "stdout",
     "output_type": "stream",
     "text": [
      "merging airport_locations lat,lon...\n",
      "Done\n"
     ]
    }
   ],
   "source": [
    "print(\"merging airport_locations lat,lon...\")\n",
    "airport_locations['point'] = [(x, y) for x,y in zip(airport_locations['Latitude'], airport_locations['Longitude'])]\n",
    "print('Done')"
   ]
  },
  {
   "cell_type": "code",
   "execution_count": 21,
   "metadata": {},
   "outputs": [
    {
     "name": "stdout",
     "output_type": "stream",
     "text": [
      "merging weather_data lat,lon...\n",
      "Done\n"
     ]
    }
   ],
   "source": [
    "print(\"merging weather_data lat,lon...\")\n",
    "## doing this here again because for some reason cdist function is complaining\n",
    "## when it is done previously and read from the csv file\n",
    "weather_data['point'] = [(x, y) for x,y in zip(weather_data['lat'], weather_data['lon'])]\n",
    "print('Done')"
   ]
  },
  {
   "cell_type": "code",
   "execution_count": 22,
   "metadata": {},
   "outputs": [
    {
     "name": "stdout",
     "output_type": "stream",
     "text": [
      "find the nearest station to each airport...\n",
      "Done\n"
     ]
    }
   ],
   "source": [
    "print('find the nearest station to each airport...')\n",
    "weather_copy = weather_data.drop_duplicates('station')\n",
    "airport_station = {}\n",
    "for station, point in zip(airport_locations.IATA.unique(),airport_locations.point.unique()):\n",
    "    airport_station[station] = closest_point(point, list(weather_copy['point']), weather_copy['station'].tolist()) \n",
    "print('Done')"
   ]
  },
  {
   "cell_type": "code",
   "execution_count": 23,
   "metadata": {},
   "outputs": [
    {
     "name": "stdout",
     "output_type": "stream",
     "text": [
      "Done\n"
     ]
    }
   ],
   "source": [
    "flights['nearest_weather_sta'] = [airport_station.get(station, '') for station in flights['Origin']]\n",
    "print('Done')"
   ]
  },
  {
   "cell_type": "code",
   "execution_count": 24,
   "metadata": {},
   "outputs": [
    {
     "name": "stdout",
     "output_type": "stream",
     "text": [
      "creating merge_id column...\n",
      "Done\n"
     ]
    }
   ],
   "source": [
    "print('creating merge_id column...')\n",
    "flights['merge_id'] = [\"{}_{}\".format(epoch, iata) for epoch, iata in zip(flights['epoch_time'], flights['nearest_weather_sta'])]\n",
    "print('Done')"
   ]
  },
  {
   "cell_type": "markdown",
   "metadata": {},
   "source": [
    "## Merge Weather Dataframes"
   ]
  },
  {
   "cell_type": "code",
   "execution_count": 25,
   "metadata": {},
   "outputs": [
    {
     "name": "stdout",
     "output_type": "stream",
     "text": [
      "merging weather data into flights...\n",
      "Done\n"
     ]
    }
   ],
   "source": [
    "print('merging weather data into flights...')\n",
    "flights = pd.merge(flights, weather_data, how='left', on='merge_id')\n",
    "print('Done')"
   ]
  },
  {
   "cell_type": "code",
   "execution_count": null,
   "metadata": {},
   "outputs": [],
   "source": [
    "print ('writing file to csv...')\n",
    "flights.to_csv(path_or_buf='./flights_weather_merged.csv', sep=',')\n",
    "print('Done')"
   ]
  },
  {
   "cell_type": "code",
   "execution_count": 28,
   "metadata": {},
   "outputs": [
    {
     "data": {
      "text/plain": [
       "(1580558, 31)"
      ]
     },
     "metadata": {},
     "output_type": "display_data"
    },
    {
     "data": {
      "text/html": [
       "<div>\n",
       "<style scoped>\n",
       "    .dataframe tbody tr th:only-of-type {\n",
       "        vertical-align: middle;\n",
       "    }\n",
       "\n",
       "    .dataframe tbody tr th {\n",
       "        vertical-align: top;\n",
       "    }\n",
       "\n",
       "    .dataframe thead th {\n",
       "        text-align: right;\n",
       "    }\n",
       "</style>\n",
       "<table border=\"1\" class=\"dataframe\">\n",
       "  <thead>\n",
       "    <tr style=\"text-align: right;\">\n",
       "      <th></th>\n",
       "      <th>Unnamed: 0</th>\n",
       "      <th>Year</th>\n",
       "      <th>Month</th>\n",
       "      <th>DayofMonth</th>\n",
       "      <th>DayOfWeek</th>\n",
       "      <th>DepTime</th>\n",
       "      <th>CRSDepTime</th>\n",
       "      <th>ArrTime</th>\n",
       "      <th>CRSArrTime</th>\n",
       "      <th>UniqueCarrier</th>\n",
       "      <th>...</th>\n",
       "      <th>TaxiOut</th>\n",
       "      <th>Cancelled</th>\n",
       "      <th>CancellationCode</th>\n",
       "      <th>Diverted</th>\n",
       "      <th>CarrierDelay</th>\n",
       "      <th>WeatherDelay</th>\n",
       "      <th>NASDelay</th>\n",
       "      <th>SecurityDelay</th>\n",
       "      <th>LateAircraftDelay</th>\n",
       "      <th>epoch_time</th>\n",
       "    </tr>\n",
       "  </thead>\n",
       "  <tbody>\n",
       "    <tr>\n",
       "      <td>0</td>\n",
       "      <td>320</td>\n",
       "      <td>2008</td>\n",
       "      <td>1</td>\n",
       "      <td>3</td>\n",
       "      <td>4</td>\n",
       "      <td>1735.0</td>\n",
       "      <td>1710</td>\n",
       "      <td>2010.0</td>\n",
       "      <td>1955</td>\n",
       "      <td>WN</td>\n",
       "      <td>...</td>\n",
       "      <td>10.0</td>\n",
       "      <td>0</td>\n",
       "      <td>NaN</td>\n",
       "      <td>0</td>\n",
       "      <td>0.0</td>\n",
       "      <td>0.0</td>\n",
       "      <td>4.0</td>\n",
       "      <td>0.0</td>\n",
       "      <td>11.0</td>\n",
       "      <td>1.199380e+12</td>\n",
       "    </tr>\n",
       "    <tr>\n",
       "      <td>1</td>\n",
       "      <td>321</td>\n",
       "      <td>2008</td>\n",
       "      <td>1</td>\n",
       "      <td>3</td>\n",
       "      <td>4</td>\n",
       "      <td>2105.0</td>\n",
       "      <td>2025</td>\n",
       "      <td>2342.0</td>\n",
       "      <td>2310</td>\n",
       "      <td>WN</td>\n",
       "      <td>...</td>\n",
       "      <td>9.0</td>\n",
       "      <td>0</td>\n",
       "      <td>NaN</td>\n",
       "      <td>0</td>\n",
       "      <td>0.0</td>\n",
       "      <td>0.0</td>\n",
       "      <td>11.0</td>\n",
       "      <td>0.0</td>\n",
       "      <td>21.0</td>\n",
       "      <td>1.199394e+12</td>\n",
       "    </tr>\n",
       "  </tbody>\n",
       "</table>\n",
       "<p>2 rows × 31 columns</p>\n",
       "</div>"
      ],
      "text/plain": [
       "   Unnamed: 0  Year  Month  DayofMonth  DayOfWeek  DepTime  CRSDepTime  \\\n",
       "0         320  2008      1           3          4   1735.0        1710   \n",
       "1         321  2008      1           3          4   2105.0        2025   \n",
       "\n",
       "   ArrTime  CRSArrTime UniqueCarrier  ...  TaxiOut Cancelled  \\\n",
       "0   2010.0        1955            WN  ...     10.0         0   \n",
       "1   2342.0        2310            WN  ...      9.0         0   \n",
       "\n",
       "   CancellationCode  Diverted  CarrierDelay  WeatherDelay  NASDelay  \\\n",
       "0               NaN         0           0.0           0.0       4.0   \n",
       "1               NaN         0           0.0           0.0      11.0   \n",
       "\n",
       "  SecurityDelay LateAircraftDelay    epoch_time  \n",
       "0           0.0              11.0  1.199380e+12  \n",
       "1           0.0              21.0  1.199394e+12  \n",
       "\n",
       "[2 rows x 31 columns]"
      ]
     },
     "metadata": {},
     "output_type": "display_data"
    }
   ],
   "source": [
    "display(flights.shape)\n",
    "display(flights.head(2))"
   ]
  },
  {
   "cell_type": "code",
   "execution_count": null,
   "metadata": {},
   "outputs": [],
   "source": []
  }
 ],
 "metadata": {
  "kernelspec": {
   "display_name": "Python 3",
   "language": "python",
   "name": "python3"
  },
  "language_info": {
   "codemirror_mode": {
    "name": "ipython",
    "version": 3
   },
   "file_extension": ".py",
   "mimetype": "text/x-python",
   "name": "python",
   "nbconvert_exporter": "python",
   "pygments_lexer": "ipython3",
   "version": "3.7.5"
  }
 },
 "nbformat": 4,
 "nbformat_minor": 2
}
